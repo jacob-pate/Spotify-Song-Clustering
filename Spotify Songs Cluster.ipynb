{
 "cells": [
  {
   "cell_type": "code",
   "execution_count": 4,
   "id": "53eb2403",
   "metadata": {},
   "outputs": [
    {
     "ename": "ImportError",
     "evalue": "cannot import name 'KMedoids' from 'sklearn.cluster' (/Users/jpate/opt/anaconda3/lib/python3.9/site-packages/sklearn/cluster/__init__.py)",
     "output_type": "error",
     "traceback": [
      "\u001b[0;31m---------------------------------------------------------------------------\u001b[0m",
      "\u001b[0;31mImportError\u001b[0m                               Traceback (most recent call last)",
      "\u001b[0;32m/var/folders/tw/zw6t1r65653627d6yhcc6pt80000gn/T/ipykernel_3580/2338335383.py\u001b[0m in \u001b[0;36m<module>\u001b[0;34m\u001b[0m\n\u001b[1;32m     10\u001b[0m \u001b[0;32mfrom\u001b[0m \u001b[0msklearn\u001b[0m \u001b[0;32mimport\u001b[0m \u001b[0mpreprocessing\u001b[0m\u001b[0;34m\u001b[0m\u001b[0;34m\u001b[0m\u001b[0m\n\u001b[1;32m     11\u001b[0m \u001b[0;32mfrom\u001b[0m \u001b[0msklearn\u001b[0m\u001b[0;34m.\u001b[0m\u001b[0mcluster\u001b[0m \u001b[0;32mimport\u001b[0m \u001b[0mKMeans\u001b[0m\u001b[0;34m,\u001b[0m \u001b[0mAgglomerativeClustering\u001b[0m\u001b[0;34m\u001b[0m\u001b[0;34m\u001b[0m\u001b[0m\n\u001b[0;32m---> 12\u001b[0;31m \u001b[0;32mfrom\u001b[0m \u001b[0msklearn\u001b[0m\u001b[0;34m.\u001b[0m\u001b[0mcluster\u001b[0m \u001b[0;32mimport\u001b[0m \u001b[0mKMedoids\u001b[0m\u001b[0;34m\u001b[0m\u001b[0;34m\u001b[0m\u001b[0m\n\u001b[0m\u001b[1;32m     13\u001b[0m \u001b[0;34m\u001b[0m\u001b[0m\n\u001b[1;32m     14\u001b[0m \u001b[0;32mimport\u001b[0m \u001b[0mplotly\u001b[0m\u001b[0;34m.\u001b[0m\u001b[0mexpress\u001b[0m \u001b[0;32mas\u001b[0m \u001b[0mpx\u001b[0m\u001b[0;34m\u001b[0m\u001b[0;34m\u001b[0m\u001b[0m\n",
      "\u001b[0;31mImportError\u001b[0m: cannot import name 'KMedoids' from 'sklearn.cluster' (/Users/jpate/opt/anaconda3/lib/python3.9/site-packages/sklearn/cluster/__init__.py)"
     ]
    }
   ],
   "source": [
    "import numpy as np\n",
    "import time\n",
    "import pandas as pd\n",
    "import matplotlib.pyplot as plt\n",
    "%matplotlib inline\n",
    "import seaborn as sns\n",
    "from sklearn.preprocessing import StandardScaler\n",
    "\n",
    "from sklearn.decomposition import PCA\n",
    "from sklearn import preprocessing\n",
    "from sklearn.cluster import KMeans, AgglomerativeClustering\n",
    "from sklearn_extra.cluster import KMedoids\n",
    "\n",
    "import plotly.express as px\n",
    "\n",
    "%matplotlib widget\n",
    "from mpl_toolkits.mplot3d import Axes3D"
   ]
  },
  {
   "cell_type": "markdown",
   "id": "6f576c3e",
   "metadata": {},
   "source": [
    "## Preprocessing ##"
   ]
  },
  {
   "cell_type": "code",
   "execution_count": null,
   "id": "a796827b",
   "metadata": {},
   "outputs": [],
   "source": [
    "songs_df = pd.read_csv('/Users/jpate/Documents/MySongsDataset.csv')\n",
    "songs_df"
   ]
  },
  {
   "cell_type": "code",
   "execution_count": null,
   "id": "2a3cbf40",
   "metadata": {},
   "outputs": [],
   "source": [
    "songs_normalized_df = songs_df.copy()\n",
    "selected_columns = songs_normalized_df[['danceability',\n",
    "                                        'energy',\n",
    "                                        'loudness',\n",
    "                                        'speechiness',\n",
    "                                        'acousticness',\n",
    "                                        'tempo',\n",
    "                                        'liveness',\n",
    "                                        'valence']]"
   ]
  },
  {
   "cell_type": "code",
   "execution_count": null,
   "id": "993ec33c",
   "metadata": {},
   "outputs": [],
   "source": [
    "selected_columns = StandardScaler().fit_transform(selected_columns)\n",
    "selected_columns_df = pd.DataFrame(selected_columns)\n",
    "selected_columns_df"
   ]
  },
  {
   "cell_type": "code",
   "execution_count": null,
   "id": "b31e62c2",
   "metadata": {},
   "outputs": [],
   "source": [
    "normed_features_df = selected_columns_df.rename(columns={0: 'danceability',\n",
    "                                                         1: 'energy',\n",
    "                                                         2: 'loudness',\n",
    "                                                         3:'speechiness',\n",
    "                                                         4: 'acousticness',\n",
    "                                                         5: 'tempo',\n",
    "                                                         6: 'liveness',\n",
    "                                                         7: 'valence'})"
   ]
  },
  {
   "cell_type": "code",
   "execution_count": null,
   "id": "dd14a150",
   "metadata": {},
   "outputs": [],
   "source": [
    "songs_normalized_df = songs_normalized_df.drop(['id',\n",
    "                                                'danceability',\n",
    "                                                'energy',\n",
    "                                                'loudness',\n",
    "                                                'speechiness',\n",
    "                                                'acousticness',\n",
    "                                                'tempo',\n",
    "                                                'liveness',\n",
    "                                                'valence'],\n",
    "                                                   axis=1)"
   ]
  },
  {
   "cell_type": "code",
   "execution_count": null,
   "id": "33b19311",
   "metadata": {},
   "outputs": [],
   "source": [
    "songs_data = songs_normalized_df.join(normed_features_df)"
   ]
  },
  {
   "cell_type": "code",
   "execution_count": null,
   "id": "cd604891",
   "metadata": {},
   "outputs": [],
   "source": [
    "songs_data"
   ]
  },
  {
   "cell_type": "markdown",
   "id": "e78a8160",
   "metadata": {},
   "source": [
    "## Loading and Modeling the Data ##"
   ]
  },
  {
   "cell_type": "code",
   "execution_count": null,
   "id": "cb2a1c66",
   "metadata": {},
   "outputs": [],
   "source": [
    "X = songs_data[['danceability',\n",
    "                'energy',\n",
    "                'loudness',\n",
    "                'speechiness',\n",
    "                'acousticness',\n",
    "                'tempo',\n",
    "                'liveness',\n",
    "                'valence']]"
   ]
  },
  {
   "cell_type": "code",
   "execution_count": null,
   "id": "35a1d30c",
   "metadata": {},
   "outputs": [],
   "source": [
    "pca = PCA(n_components=3)\n",
    "pca_mdl = pca.fit_transform(X)\n",
    "pca_df = pd.DataFrame(pca_mdl)\n",
    "pca_df"
   ]
  },
  {
   "cell_type": "code",
   "execution_count": null,
   "id": "e936ecff",
   "metadata": {},
   "outputs": [],
   "source": [
    "kmeans = KMeans(n_clusters=5, random_state=1).fit(X)"
   ]
  },
  {
   "cell_type": "code",
   "execution_count": null,
   "id": "f0450863",
   "metadata": {},
   "outputs": [],
   "source": [
    "y = kmeans.fit_predict(X)"
   ]
  },
  {
   "cell_type": "code",
   "execution_count": null,
   "id": "6f863e04",
   "metadata": {},
   "outputs": [],
   "source": [
    "y_df = pd.DataFrame(y, columns=['Cluster'])\n",
    "new_df = pd.concat([songs_data, y_df], axis=1)\n",
    "new_df"
   ]
  },
  {
   "cell_type": "code",
   "execution_count": null,
   "id": "3da4f47a",
   "metadata": {},
   "outputs": [],
   "source": [
    "mdl_clstr_0 = new_df[new_df.Cluster == 0]"
   ]
  },
  {
   "cell_type": "code",
   "execution_count": null,
   "id": "bd056c05",
   "metadata": {},
   "outputs": [],
   "source": [
    "clstr_0 = pd.concat([mdl_clstr_0, pca_df], axis = 1)\n",
    "clstr_0 = clstr_0.dropna()\n",
    "clstr_0"
   ]
  },
  {
   "cell_type": "code",
   "execution_count": null,
   "id": "ee87302f",
   "metadata": {},
   "outputs": [],
   "source": [
    "mdl_clstr_1 = new_df[new_df.Cluster == 1]"
   ]
  },
  {
   "cell_type": "code",
   "execution_count": null,
   "id": "81cbad16",
   "metadata": {},
   "outputs": [],
   "source": [
    "clstr_1 = pd.concat([mdl_clstr_1, pca_df], axis = 1)\n",
    "clstr_1 = clstr_1.dropna()\n",
    "clstr_1"
   ]
  },
  {
   "cell_type": "code",
   "execution_count": null,
   "id": "ac4eba65",
   "metadata": {},
   "outputs": [],
   "source": [
    "mdl_clstr_2 = new_df[new_df.Cluster == 2]"
   ]
  },
  {
   "cell_type": "code",
   "execution_count": null,
   "id": "ed9d4454",
   "metadata": {},
   "outputs": [],
   "source": [
    "clstr_2 = pd.concat([mdl_clstr_2, pca_df], axis = 1)\n",
    "clstr_2 = clstr_2.dropna()\n",
    "clstr_2"
   ]
  },
  {
   "cell_type": "code",
   "execution_count": null,
   "id": "513e471a",
   "metadata": {},
   "outputs": [],
   "source": [
    "mdl_clstr_3 = new_df[new_df.Cluster == 3]"
   ]
  },
  {
   "cell_type": "code",
   "execution_count": null,
   "id": "98aac81a",
   "metadata": {},
   "outputs": [],
   "source": [
    "clstr_3 = pd.concat([mdl_clstr_3, pca_df], axis = 1)\n",
    "clstr_3 = clstr_3.dropna()\n",
    "clstr_3"
   ]
  },
  {
   "cell_type": "code",
   "execution_count": null,
   "id": "9c4ccb4e",
   "metadata": {},
   "outputs": [],
   "source": [
    "mdl_clstr_4 = new_df[new_df.Cluster == 4]"
   ]
  },
  {
   "cell_type": "code",
   "execution_count": null,
   "id": "f3071412",
   "metadata": {},
   "outputs": [],
   "source": [
    "clstr_4 = pd.concat([mdl_clstr_4, pca_df], axis = 1)\n",
    "clstr_4 = clstr_4.dropna()\n",
    "clstr_4"
   ]
  },
  {
   "cell_type": "markdown",
   "id": "a11f4fee",
   "metadata": {},
   "source": [
    "## The Final Plot ##"
   ]
  },
  {
   "cell_type": "code",
   "execution_count": null,
   "id": "c4b0f810",
   "metadata": {},
   "outputs": [],
   "source": [
    "fig = px.scatter_3d(pd.concat([new_df, pca_df], axis = 1), \n",
    "                 x = 0, y = 1, z=2, color='Cluster', size_max=0.01, hover_data=['name','artist','genre'])\n",
    "\n",
    "fig.update_traces(marker=dict(size=5,\n",
    "                              line=dict(width=1,\n",
    "                                        color='black')),\n",
    "                  selector=dict(mode='markers'))\n",
    "\n",
    "fig.show()"
   ]
  },
  {
   "cell_type": "markdown",
   "id": "cc04d6c0",
   "metadata": {},
   "source": [
    "## Individual Cluster Plots ##"
   ]
  },
  {
   "cell_type": "code",
   "execution_count": null,
   "id": "e0e9a038",
   "metadata": {},
   "outputs": [],
   "source": [
    "#you can change the data_frame = value with the following: clstr_0, clstr_1, clstr_2, clstr_3, clster_4\n",
    "\n",
    "fig = px.scatter_3d(data_frame=clstr_1, \n",
    "                 x = 0, y = 1, z=2, color='Cluster', size_max=0.01, hover_data=['name','artist','genre'], \n",
    "                    range_x=(-2,6), range_y=(-2,4), range_z=(-2,5))\n",
    "\n",
    "fig.update_traces(marker=dict(size=5,\n",
    "                              line=dict(width=1,\n",
    "                                        color='cyan')),\n",
    "                  selector=dict(mode='markers'))\n",
    "\n",
    "fig.show()"
   ]
  }
 ],
 "metadata": {
  "kernelspec": {
   "display_name": "Python 3 (ipykernel)",
   "language": "python",
   "name": "python3"
  },
  "language_info": {
   "codemirror_mode": {
    "name": "ipython",
    "version": 3
   },
   "file_extension": ".py",
   "mimetype": "text/x-python",
   "name": "python",
   "nbconvert_exporter": "python",
   "pygments_lexer": "ipython3",
   "version": "3.9.7"
  }
 },
 "nbformat": 4,
 "nbformat_minor": 5
}
